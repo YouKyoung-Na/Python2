{
 "cells": [
  {
   "cell_type": "code",
   "execution_count": 10,
   "id": "ae9b6bde",
   "metadata": {},
   "outputs": [
    {
     "name": "stdout",
     "output_type": "stream",
     "text": [
      "True\n",
      "True\n",
      "False\n"
     ]
    }
   ],
   "source": [
    "print(bool('True'))\n",
    "print(bool('False'))\n",
    "print(bool(False))"
   ]
  },
  {
   "cell_type": "code",
   "execution_count": 11,
   "id": "ee1c6e33",
   "metadata": {},
   "outputs": [
    {
     "name": "stdout",
     "output_type": "stream",
     "text": [
      "123\n",
      "3.14\n",
      "123\n"
     ]
    }
   ],
   "source": [
    "var1 = 123\n",
    "var2 = var1\n",
    "print(var2)\n",
    "\n",
    "var1 = 3.14\n",
    "print(var1)\n",
    "\n",
    "print(var2)"
   ]
  },
  {
   "cell_type": "code",
   "execution_count": 13,
   "id": "91e175fe",
   "metadata": {},
   "outputs": [
    {
     "data": {
      "text/plain": [
       "3"
      ]
     },
     "execution_count": 13,
     "metadata": {},
     "output_type": "execute_result"
    }
   ],
   "source": [
    "a = 10\n",
    "a //= 3\n",
    "a"
   ]
  },
  {
   "cell_type": "code",
   "execution_count": 16,
   "id": "a2b4b426",
   "metadata": {},
   "outputs": [
    {
     "data": {
      "text/plain": [
       "2.0"
      ]
     },
     "execution_count": 16,
     "metadata": {},
     "output_type": "execute_result"
    }
   ],
   "source": [
    "b =5\n",
    "c = float(b//2)\n",
    "c"
   ]
  },
  {
   "cell_type": "code",
   "execution_count": 18,
   "id": "e9150317",
   "metadata": {},
   "outputs": [
    {
     "data": {
      "text/plain": [
       "8"
      ]
     },
     "execution_count": 18,
     "metadata": {},
     "output_type": "execute_result"
    }
   ],
   "source": [
    "d = 2\n",
    "d **=3\n",
    "d"
   ]
  },
  {
   "cell_type": "code",
   "execution_count": 19,
   "id": "91de0a7e",
   "metadata": {},
   "outputs": [
    {
     "data": {
      "text/plain": [
       "''"
      ]
     },
     "execution_count": 19,
     "metadata": {},
     "output_type": "execute_result"
    }
   ],
   "source": [
    "'Hello'*-1"
   ]
  },
  {
   "cell_type": "code",
   "execution_count": 22,
   "id": "5c6b4a4e",
   "metadata": {},
   "outputs": [
    {
     "data": {
      "text/plain": [
       "5.0"
      ]
     },
     "execution_count": 22,
     "metadata": {},
     "output_type": "execute_result"
    }
   ],
   "source": [
    "a = 10/2\n",
    "a"
   ]
  },
  {
   "cell_type": "code",
   "execution_count": 23,
   "id": "ed118026",
   "metadata": {},
   "outputs": [
    {
     "name": "stdout",
     "output_type": "stream",
     "text": [
      "3.33입니다\n"
     ]
    }
   ],
   "source": [
    "b = 3.33333333\n",
    "print(f'{b:.2f}입니다')"
   ]
  },
  {
   "cell_type": "code",
   "execution_count": 28,
   "id": "3afc11e6",
   "metadata": {},
   "outputs": [
    {
     "name": "stdout",
     "output_type": "stream",
     "text": [
      "32\n"
     ]
    },
    {
     "data": {
      "text/plain": [
       "' '"
      ]
     },
     "execution_count": 28,
     "metadata": {},
     "output_type": "execute_result"
    }
   ],
   "source": [
    "a1 = ord('A')\n",
    "b1 = ord('a')\n",
    "print(b1-a1)\n",
    "chr(b1-a1)"
   ]
  },
  {
   "cell_type": "code",
   "execution_count": 29,
   "id": "59ad5351",
   "metadata": {},
   "outputs": [
    {
     "name": "stdout",
     "output_type": "stream",
     "text": [
      "False\n"
     ]
    }
   ],
   "source": [
    "a = 1\n",
    "b = 1\n",
    "print(bool(a != b))"
   ]
  },
  {
   "cell_type": "code",
   "execution_count": 30,
   "id": "bd3cf8ee",
   "metadata": {},
   "outputs": [
    {
     "data": {
      "text/plain": [
       "False"
      ]
     },
     "execution_count": 30,
     "metadata": {},
     "output_type": "execute_result"
    }
   ],
   "source": [
    "num  = 10\n",
    "(num<5) and abc"
   ]
  },
  {
   "cell_type": "code",
   "execution_count": 31,
   "id": "2d3cd7f6",
   "metadata": {},
   "outputs": [
    {
     "data": {
      "text/plain": [
       "True"
      ]
     },
     "execution_count": 31,
     "metadata": {},
     "output_type": "execute_result"
    }
   ],
   "source": [
    "(num>5) or abc"
   ]
  },
  {
   "cell_type": "code",
   "execution_count": 43,
   "id": "68568199",
   "metadata": {},
   "outputs": [
    {
     "name": "stdout",
     "output_type": "stream",
     "text": [
      "input num: 123\n",
      "aaa\n",
      "bbb\n"
     ]
    }
   ],
   "source": [
    "num = int(input('input num: '))\n",
    "for i in range(10):\n",
    "    if i >10:\n",
    "        ;\n",
    "        print(i)\n",
    "print('aaa')\n",
    "print('bbb')\n"
   ]
  },
  {
   "cell_type": "code",
   "execution_count": 48,
   "id": "f7a89c62",
   "metadata": {},
   "outputs": [
    {
     "name": "stdout",
     "output_type": "stream",
     "text": [
      "공배수:  24\n",
      "0\n",
      "공배수:  48\n",
      "24\n",
      "공배수:  72\n",
      "24\n",
      "공배수:  96\n",
      "24\n"
     ]
    }
   ],
   "source": [
    "num = 1\n",
    "minNum = 0;\n",
    "\n",
    "while num <=100:\n",
    "    if num % 3 == 0 and num % 8 == 0:\n",
    "        print(\"공배수: \", num)\n",
    "        print(minNum)\n",
    "        if minNum ==0:\n",
    "            minNum = num\n",
    "    num +=1"
   ]
  },
  {
   "cell_type": "code",
   "execution_count": 76,
   "id": "0a87a598",
   "metadata": {
    "scrolled": false
   },
   "outputs": [
    {
     "name": "stdout",
     "output_type": "stream",
     "text": [
      "*\n",
      "**\n",
      "***\n",
      "****\n",
      "*****\n"
     ]
    }
   ],
   "source": [
    "for i in range(1,6):\n",
    "    for j in range(i):\n",
    "        print('*', end='')  #굳이 중첩 안써도 됨.. \n",
    "    print()"
   ]
  },
  {
   "cell_type": "code",
   "execution_count": 79,
   "id": "9f94463c",
   "metadata": {},
   "outputs": [
    {
     "name": "stdout",
     "output_type": "stream",
     "text": [
      "*\n",
      "**\n",
      "***\n",
      "****\n",
      "*****\n"
     ]
    }
   ],
   "source": [
    "star  = '*'\n",
    "for i in range(1,6):\n",
    "    print(star*i)"
   ]
  },
  {
   "cell_type": "code",
   "execution_count": 83,
   "id": "5647b54b",
   "metadata": {},
   "outputs": [
    {
     "name": "stdout",
     "output_type": "stream",
     "text": [
      "*\n",
      "**\n",
      "***\n",
      "****\n",
      "*****\n"
     ]
    }
   ],
   "source": [
    "for i in range(1,6):\n",
    "    print('*'*i)  #굳이 중첩 안써도 됨.. "
   ]
  },
  {
   "cell_type": "code",
   "execution_count": 82,
   "id": "afbd2e44",
   "metadata": {},
   "outputs": [
    {
     "name": "stdout",
     "output_type": "stream",
     "text": [
      "*\n",
      "**\n",
      "***\n",
      "****\n",
      "*****\n"
     ]
    }
   ],
   "source": [
    "for i in range(1,6):\n",
    "    for j in range(i):\n",
    "        print('*', end='')\n",
    "    print()"
   ]
  },
  {
   "cell_type": "code",
   "execution_count": 60,
   "id": "80b99bfd",
   "metadata": {},
   "outputs": [
    {
     "name": "stdout",
     "output_type": "stream",
     "text": [
      "*\n",
      "*\n",
      "**\n",
      "**\n",
      "***\n",
      "***\n",
      "****\n",
      "****\n",
      "*****\n",
      "*****\n"
     ]
    }
   ],
   "source": [
    "for i in range(1,11):\n",
    "    for j in range(0,i,2):\n",
    "        print('*', end ='')\n",
    "    print()"
   ]
  },
  {
   "cell_type": "code",
   "execution_count": 75,
   "id": "cca11de8",
   "metadata": {},
   "outputs": [
    {
     "name": "stdout",
     "output_type": "stream",
     "text": [
      "*\n",
      "***\n",
      "*****\n",
      "*******\n",
      "*********\n"
     ]
    }
   ],
   "source": [
    "star = '*'\n",
    "for i in range(1,11):\n",
    "    if(i%2==1):\n",
    "        print(star*i)"
   ]
  },
  {
   "cell_type": "code",
   "execution_count": 69,
   "id": "544bf385",
   "metadata": {},
   "outputs": [
    {
     "name": "stdout",
     "output_type": "stream",
     "text": [
      "5\n",
      "    *\n",
      "   **\n",
      "  ***\n",
      " ****\n",
      "*****\n"
     ]
    }
   ],
   "source": [
    "space = ' '\n",
    "star = '*'\n",
    "n = int(input())\n",
    "\n",
    "for i in range(n, 0, -1):\n",
    "    print(space * (i - 1) + star * (n - (i - 1)))"
   ]
  },
  {
   "cell_type": "code",
   "execution_count": 3,
   "id": "56e574ea",
   "metadata": {},
   "outputs": [],
   "source": [
    "def fib(a):\n",
    "    if a==1 or a==0:\n",
    "        return 1\n",
    "    else:\n",
    "        return fib(a-1)+fib(a-2)"
   ]
  },
  {
   "cell_type": "code",
   "execution_count": 6,
   "id": "2ca4778f",
   "metadata": {
    "scrolled": true
   },
   "outputs": [
    {
     "data": {
      "text/plain": [
       "13"
      ]
     },
     "execution_count": 6,
     "metadata": {},
     "output_type": "execute_result"
    }
   ],
   "source": [
    "fib(6)"
   ]
  }
 ],
 "metadata": {
  "kernelspec": {
   "display_name": "Python 3 (ipykernel)",
   "language": "python",
   "name": "python3"
  },
  "language_info": {
   "codemirror_mode": {
    "name": "ipython",
    "version": 3
   },
   "file_extension": ".py",
   "mimetype": "text/x-python",
   "name": "python",
   "nbconvert_exporter": "python",
   "pygments_lexer": "ipython3",
   "version": "3.9.12"
  }
 },
 "nbformat": 4,
 "nbformat_minor": 5
}
