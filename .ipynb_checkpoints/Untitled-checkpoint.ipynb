{
 "cells": [
  {
   "cell_type": "code",
   "execution_count": 7,
   "id": "f7f8f2ad",
   "metadata": {},
   "outputs": [
    {
     "ename": "ModuleNotFoundError",
     "evalue": "No module named 'keyboard'",
     "output_type": "error",
     "traceback": [
      "\u001b[0;31m---------------------------------------------------------------------------\u001b[0m",
      "\u001b[0;31mModuleNotFoundError\u001b[0m                       Traceback (most recent call last)",
      "Input \u001b[0;32mIn [7]\u001b[0m, in \u001b[0;36m<cell line: 1>\u001b[0;34m()\u001b[0m\n\u001b[0;32m----> 1\u001b[0m \u001b[38;5;28;01mimport\u001b[39;00m \u001b[38;5;21;01mpygame\u001b[39;00m\n\u001b[1;32m      4\u001b[0m \u001b[38;5;66;03m# pygame.init()\u001b[39;00m\n\u001b[1;32m      5\u001b[0m \n\u001b[1;32m      6\u001b[0m \u001b[38;5;66;03m# \\\u001b[39;00m\n\u001b[1;32m      7\u001b[0m \n\u001b[1;32m      8\u001b[0m \u001b[38;5;66;03m#캐릭터 이동클래스 만들기\u001b[39;00m\n\u001b[1;32m      9\u001b[0m \u001b[38;5;28;01mclass\u001b[39;00m \u001b[38;5;21;01mMOVE\u001b[39;00m:\n",
      "File \u001b[0;32m~/Desktop/PythonLearn/pygame.py:1\u001b[0m, in \u001b[0;36m<module>\u001b[0;34m\u001b[0m\n\u001b[0;32m----> 1\u001b[0m \u001b[38;5;28;01mimport\u001b[39;00m \u001b[38;5;21;01mkeyboard\u001b[39;00m\n\u001b[1;32m      2\u001b[0m \u001b[38;5;28;01mimport\u001b[39;00m \u001b[38;5;21;01mpygame\u001b[39;00m\n\u001b[1;32m      3\u001b[0m pygame\u001b[38;5;241m.\u001b[39minit()\n",
      "\u001b[0;31mModuleNotFoundError\u001b[0m: No module named 'keyboard'"
     ]
    }
   ],
   "source": [
    "import pygame\n",
    "\n",
    "\n",
    "# pygame.init()\n",
    "\n",
    "# \\\n",
    "\n",
    "#캐릭터 이동클래스 만들기\n",
    "class MOVE:\n",
    "    def __init__(self, to_x, to_y):\n",
    "        self.to_x = to_x\n",
    "        self.to_y = to_y\n",
    "\n",
    "    def left_or_right(self, to_x):\n",
    "        return self.to_x\n",
    "    def down(self, to_y):\n",
    "        return self.to_y\n",
    "\n",
    "# #캐릭터 불러오기\n",
    "# character = pygame.image.load(\"sprite01.png\")\n",
    "# to_x = 0  # 캐릭터 이동 좌표\n",
    "# to_y = 0\n",
    "# character_x_pos = 650 + to_x  #캐릭터 좌표\n",
    "# character_y_pos = 60 + to_y\n",
    "\n",
    "# #이벤트 루프\n",
    "# running = True\n",
    "# while running:\n",
    "#     for event in pygame.event.get(): #사용자의 움직임 받음\n",
    "#         if event.type == pygame.QUIT: #게임 닫기 버튼 클릭시 종료\n",
    "#             running = False\n",
    "#             pygame.quit()\n",
    "#     #배경화면,캐릭터 삽입\n",
    "#     screen.blit(lv3_img, (0, 0))\n",
    "#     screen.blit(character,(character_x_pos, character_y_pos))\n",
    "#     pygame.display.update()\n",
    "#         #키이벤트 만들기\n",
    "#     for event in pygame.event.get():\n",
    "#         character = None\n",
    "#         key = keyboard.read_key()\n",
    "#         if key == \"ctrl\" and \"z\":\n",
    "#             character = MOVE(-190,0)\n",
    "\n",
    "\n",
    "#     clock.tick(60)\n",
    "# #게임종료\n",
    "# pygame.quit()\n",
    "# print(\"level 3 종료\")"
   ]
  }
 ],
 "metadata": {
  "kernelspec": {
   "display_name": "Python 3 (ipykernel)",
   "language": "python",
   "name": "python3"
  },
  "language_info": {
   "codemirror_mode": {
    "name": "ipython",
    "version": 3
   },
   "file_extension": ".py",
   "mimetype": "text/x-python",
   "name": "python",
   "nbconvert_exporter": "python",
   "pygments_lexer": "ipython3",
   "version": "3.9.12"
  }
 },
 "nbformat": 4,
 "nbformat_minor": 5
}
